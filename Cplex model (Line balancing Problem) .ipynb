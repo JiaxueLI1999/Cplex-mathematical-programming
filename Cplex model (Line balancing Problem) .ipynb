{
 "cells": [
  {
   "cell_type": "code",
   "execution_count": 1,
   "id": "bdc0d407",
   "metadata": {},
   "outputs": [],
   "source": [
    "import docplex.mp.model as cpx"
   ]
  },
  {
   "cell_type": "code",
   "execution_count": 2,
   "id": "b49e12d8",
   "metadata": {},
   "outputs": [],
   "source": [
    "import sys\n",
    "try:\n",
    "    import cplex\n",
    "except:\n",
    "    if hasattr(sys, 'real_prefix'):\n",
    "        #we are in a virtual env.\n",
    "        !pip install cplex\n",
    "    else:\n",
    "        !pip install --user cplex\n",
    "import sys\n",
    "try:\n",
    "    import docplex.mp\n",
    "except:\n",
    "    if hasattr(sys, 'real_prefix'):\n",
    "        #we are in a virtual env.\n",
    "        !pip install docplex\n",
    "    else:\n",
    "        !pip install --user docplex"
   ]
  },
  {
   "cell_type": "markdown",
   "id": "6d0b6e5d",
   "metadata": {},
   "source": [
    "a) Implement the proposed mathematical model in Cplex. And print the results (the optimal\n",
    "objective value (the cycle time), the decision variables (task assignment to stations), and\n",
    "the CPU time."
   ]
  },
  {
   "cell_type": "code",
   "execution_count": 3,
   "id": "86924b70",
   "metadata": {},
   "outputs": [],
   "source": [
    "#the set of task\n",
    "I = 12\n",
    "#the set of stations\n",
    "S = 4"
   ]
  },
  {
   "cell_type": "code",
   "execution_count": 4,
   "id": "3acbf4e2",
   "metadata": {},
   "outputs": [],
   "source": [
    "# define the parameters\n",
    "#the processing time\n",
    "pt = [2,1,3,5,2,1,2,2,3,4,4,1]"
   ]
  },
  {
   "cell_type": "code",
   "execution_count": 5,
   "id": "a6a06aa3",
   "metadata": {},
   "outputs": [],
   "source": [
    "# creat cplex model\n",
    "MSP_model = cpx.Model('MIP Model')\n",
    "\n",
    "#Time limit unit is second\n",
    "MSP_model.parameters.timelimit.set(1)\n",
    "\n",
    "#define decision varables\n",
    "x_range = [(i,s) for i in range(I)for s in range(S)]\n",
    "\n",
    "C = MSP_model.integer_var(name = \"C\")\n",
    "x = MSP_model.binary_var_dict(x_range, name = \"x\")"
   ]
  },
  {
   "cell_type": "code",
   "execution_count": 6,
   "id": "3295f06e",
   "metadata": {},
   "outputs": [],
   "source": [
    "#objective functon\n",
    "objective = MSP_model.sum(C)                                           "
   ]
  },
  {
   "cell_type": "code",
   "execution_count": 7,
   "id": "d30b0c84",
   "metadata": {},
   "outputs": [],
   "source": [
    "#2 first constrains\n",
    "for i in range (I):\n",
    "    MSP_model.add_constraint(MSP_model.sum(x[i,s]for s in range(S))== 1)\n",
    "for s in range (S):\n",
    "    MSP_model.add_constraint(MSP_model.sum(pt[i]*x[i,s]for i in range(I))<= C)"
   ]
  },
  {
   "cell_type": "code",
   "execution_count": 8,
   "id": "c22181ea",
   "metadata": {},
   "outputs": [
    {
     "name": "stdout",
     "output_type": "stream",
     "text": [
      "Version identifier: 20.1.0.1 | 2021-12-07 | 9dfdf6686\n",
      "CPXPARAM_Read_DataCheck                          1\n",
      "CPXPARAM_TimeLimit                               1\n",
      "Found incumbent of value 30.000000 after 0.00 sec. (0.00 ticks)\n",
      "Tried aggregator 1 time.\n",
      "Reduced MIP has 16 rows, 49 columns, and 100 nonzeros.\n",
      "Reduced MIP has 48 binaries, 1 generals, 0 SOSs, and 0 indicators.\n",
      "Presolve time = 0.02 sec. (0.06 ticks)\n",
      "Probing time = 0.00 sec. (0.03 ticks)\n",
      "Cover probing fixed 0 vars, tightened 3 bounds.\n",
      "Tried aggregator 1 time.\n",
      "Detecting symmetries...\n",
      "Reduced MIP has 16 rows, 49 columns, and 100 nonzeros.\n",
      "Reduced MIP has 48 binaries, 1 generals, 0 SOSs, and 0 indicators.\n",
      "Presolve time = 0.02 sec. (0.10 ticks)\n",
      "Probing time = 0.00 sec. (0.02 ticks)\n",
      "Clique table members: 12.\n",
      "MIP emphasis: balance optimality and feasibility.\n",
      "MIP search method: dynamic search.\n",
      "Parallel mode: deterministic, using up to 4 threads.\n",
      "Root relaxation solution time = 0.02 sec. (0.05 ticks)\n",
      "\n",
      "        Nodes                                         Cuts/\n",
      "   Node  Left     Objective  IInf  Best Integer    Best Bound    ItCnt     Gap\n",
      "\n",
      "*     0+    0                           30.0000        5.0000            83.33%\n",
      "      0     0        7.5000     7       30.0000        7.5000       14   75.00%\n",
      "*     0+    0                            8.0000        7.5000             6.25%\n",
      "      0     0        cutoff              8.0000        7.5000       14    6.25%\n",
      "Elapsed time = 0.06 sec. (0.38 ticks, tree = 0.01 MB, solutions = 2)\n",
      "\n",
      "Root node processing (before b&c):\n",
      "  Real time             =    0.06 sec. (0.39 ticks)\n",
      "Parallel b&c, 4 threads:\n",
      "  Real time             =    0.00 sec. (0.00 ticks)\n",
      "  Sync time (average)   =    0.00 sec.\n",
      "  Wait time (average)   =    0.00 sec.\n",
      "                          ------------\n",
      "Total (root+branch&cut) =    0.06 sec. (0.39 ticks)\n",
      "Objective value 8.0\n",
      "lower bound 8.0\n",
      "Gap 0.0\n",
      "CPU time 0.0940000000409782\n"
     ]
    }
   ],
   "source": [
    "MSP_model.minimize(objective)\n",
    "MSP_model.solve(log_output = True)\n",
    "#MSP_model.solve(log_output) just run the result \n",
    "#print(MSP_model.objective_value) print the result\n",
    "\n",
    "Obj_value = MSP_model.objective_value\n",
    "LB = MSP_model.solve_details.best_bound\n",
    "Gap = MSP_model.solve_details.mip_relative_gap\n",
    "CPU_time = MSP_model.get_solve_details().time\n",
    "\n",
    " \n",
    "print(\"Objective value\", Obj_value)\n",
    "print(\"lower bound\", LB)\n",
    "print(\"Gap\", Gap)\n",
    "print(\"CPU time\", CPU_time)"
   ]
  },
  {
   "cell_type": "code",
   "execution_count": 9,
   "id": "55cf820d",
   "metadata": {},
   "outputs": [
    {
     "name": "stdout",
     "output_type": "stream",
     "text": [
      "(0, 0) : 0\n",
      "(0, 1) : 1.0\n",
      "(0, 2) : 0\n",
      "(0, 3) : 0\n",
      "(1, 0) : 1.0\n",
      "(1, 1) : 0\n",
      "(1, 2) : 0\n",
      "(1, 3) : 0\n",
      "(2, 0) : 0\n",
      "(2, 1) : 0\n",
      "(2, 2) : 1.0\n",
      "(2, 3) : 0\n",
      "(3, 0) : 0\n",
      "(3, 1) : 0\n",
      "(3, 2) : 1.0\n",
      "(3, 3) : 0\n",
      "(4, 0) : 0\n",
      "(4, 1) : 1.0\n",
      "(4, 2) : 0\n",
      "(4, 3) : 0\n",
      "(5, 0) : 1.0\n",
      "(5, 1) : 0\n",
      "(5, 2) : 0\n",
      "(5, 3) : 0\n",
      "(6, 0) : 1.0\n",
      "(6, 1) : 0\n",
      "(6, 2) : 0\n",
      "(6, 3) : 0\n",
      "(7, 0) : 1.0\n",
      "(7, 1) : 0\n",
      "(7, 2) : 0\n",
      "(7, 3) : 0\n",
      "(8, 0) : 0\n",
      "(8, 1) : 1.0\n",
      "(8, 2) : 0\n",
      "(8, 3) : 0\n",
      "(9, 0) : 0\n",
      "(9, 1) : 0\n",
      "(9, 2) : 0\n",
      "(9, 3) : 1.0\n",
      "(10, 0) : 0\n",
      "(10, 1) : 0\n",
      "(10, 2) : 0\n",
      "(10, 3) : 1.0\n",
      "(11, 0) : 1.0\n",
      "(11, 1) : 0\n",
      "(11, 2) : 0\n",
      "(11, 3) : 0\n"
     ]
    }
   ],
   "source": [
    "for i in range (I):\n",
    "    for s in range (S):\n",
    "        print ((i,s),\":\",x[i,s].solution_value)"
   ]
  },
  {
   "cell_type": "code",
   "execution_count": 12,
   "id": "0fb10516",
   "metadata": {},
   "outputs": [],
   "source": [
    "#3 constrains\n",
    "#the set of task\n",
    "I = 12\n",
    "#the set of stations\n",
    "S = 4"
   ]
  },
  {
   "cell_type": "code",
   "execution_count": null,
   "id": "28ad1a84",
   "metadata": {},
   "outputs": [],
   "source": [
    "# define the parameters\n",
    "#the processing time\n",
    "pt = [2,1,3,5,2,1,2,2,3,4,4,1]\n",
    "A = []"
   ]
  },
  {
   "cell_type": "code",
   "execution_count": 13,
   "id": "7001cb44",
   "metadata": {},
   "outputs": [],
   "source": [
    "# creat cplex model\n",
    "MSP_model = cpx.Model('MIP Model')\n",
    "\n",
    "#Time limit unit is second\n",
    "MSP_model.parameters.timelimit.set(1)\n",
    "\n",
    "#define decision varables\n",
    "x_range = [(i,s) for i in range(I)for s in range(S)]\n",
    "s_range = [(s) for i in range(I)for s in range(S)]\n",
    "\n",
    "C = MSP_model.integer_var(name = \"C\")\n",
    "x = MSP_model.binary_var_dict(x_range, name = \"x\")"
   ]
  },
  {
   "cell_type": "code",
   "execution_count": 14,
   "id": "079e2ecc",
   "metadata": {},
   "outputs": [],
   "source": [
    "#objective functon\n",
    "objective = MSP_model.sum(C)   "
   ]
  },
  {
   "cell_type": "code",
   "execution_count": null,
   "id": "a548976c",
   "metadata": {},
   "outputs": [],
   "source": [
    "#2 first constrains\n",
    "for i in range (I):\n",
    "    MSP_model.add_constraint(MSP_model.sum(x[i,s]for s in range(S))== 1)\n",
    "for s in range (S):\n",
    "    MSP_model.add_constraint(MSP_model.sum(pt[i]*x[i,s]for i in range(I))<= C)\n",
    "for i,j range (A):\n",
    "    MSP_model.add_constraint(MSP_model.sum(S*x[i[0]-1,s]for i in range(I))<= S*x[j,s]for i in range(I)))"
   ]
  },
  {
   "cell_type": "code",
   "execution_count": null,
   "id": "a74dc0fc",
   "metadata": {},
   "outputs": [],
   "source": [
    "MSP_model.minimize(objective)\n",
    "MSP_model.solve(log_output = True)\n",
    "#MSP_model.solve(log_output) just run the result \n",
    "#print(MSP_model.objective_value) print the result\n",
    "\n",
    "Obj_value = MSP_model.objective_value\n",
    "LB = MSP_model.solve_details.best_bound\n",
    "Gap = MSP_model.solve_details.mip_relative_gap\n",
    "CPU_time = MSP_model.get_solve_details().time\n",
    "\n",
    " \n",
    "print(\"Objective value\", Obj_value)\n",
    "print(\"lower bound\", LB)\n",
    "print(\"Gap\", Gap)\n",
    "print(\"CPU time\", CPU_time)"
   ]
  },
  {
   "cell_type": "code",
   "execution_count": null,
   "id": "93f2e49c",
   "metadata": {},
   "outputs": [],
   "source": []
  },
  {
   "cell_type": "code",
   "execution_count": null,
   "id": "7a699d58",
   "metadata": {},
   "outputs": [],
   "source": []
  },
  {
   "cell_type": "code",
   "execution_count": null,
   "id": "101f21c2",
   "metadata": {},
   "outputs": [],
   "source": []
  }
 ],
 "metadata": {
  "kernelspec": {
   "display_name": "Python 3 (ipykernel)",
   "language": "python",
   "name": "python3"
  },
  "language_info": {
   "codemirror_mode": {
    "name": "ipython",
    "version": 3
   },
   "file_extension": ".py",
   "mimetype": "text/x-python",
   "name": "python",
   "nbconvert_exporter": "python",
   "pygments_lexer": "ipython3",
   "version": "3.9.7"
  }
 },
 "nbformat": 4,
 "nbformat_minor": 5
}
