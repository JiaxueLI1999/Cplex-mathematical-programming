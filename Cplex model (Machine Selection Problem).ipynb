{
 "cells": [
  {
   "cell_type": "code",
   "execution_count": 1,
   "metadata": {},
   "outputs": [
    {
     "name": "stdout",
     "output_type": "stream",
     "text": [
      "Version identifier: 20.1.0.1 | 2021-12-07 | 9dfdf6686\n",
      "CPXPARAM_Read_DataCheck                          1\n",
      "CPXPARAM_TimeLimit                               3600\n",
      "Tried aggregator 1 time.\n",
      "Reduced MIP has 13 rows, 22 columns, and 44 nonzeros.\n",
      "Reduced MIP has 0 binaries, 19 generals, 0 SOSs, and 0 indicators.\n",
      "Presolve time = 0.02 sec. (0.02 ticks)\n",
      "Tried aggregator 2 times.\n",
      "Aggregator did 4 substitutions.\n",
      "Reduced MIP has 9 rows, 18 columns, and 36 nonzeros.\n",
      "Reduced MIP has 0 binaries, 15 generals, 0 SOSs, and 0 indicators.\n",
      "Presolve time = 0.00 sec. (0.03 ticks)\n",
      "Tried aggregator 1 time.\n",
      "Reduced MIP has 9 rows, 18 columns, and 36 nonzeros.\n",
      "Reduced MIP has 0 binaries, 15 generals, 0 SOSs, and 0 indicators.\n",
      "Presolve time = 0.00 sec. (0.02 ticks)\n",
      "MIP emphasis: balance optimality and feasibility.\n",
      "MIP search method: dynamic search.\n",
      "Parallel mode: deterministic, using up to 4 threads.\n",
      "Root relaxation solution time = 0.00 sec. (0.03 ticks)\n",
      "\n",
      "        Nodes                                         Cuts/\n",
      "   Node  Left     Objective  IInf  Best Integer    Best Bound    ItCnt     Gap\n",
      "\n",
      "      0     0  6920454.1024     1                6920454.1024       18         \n",
      "*     0+    0                      6984250.3987  6920454.1024             0.91%\n",
      "      0     0        cutoff        6984250.3987                     21    0.00%\n",
      "Elapsed time = 0.08 sec. (0.35 ticks, tree = 0.01 MB, solutions = 1)\n",
      "\n",
      "Mixed integer rounding cuts applied:  1\n",
      "Gomory fractional cuts applied:  1\n",
      "\n",
      "Root node processing (before b&c):\n",
      "  Real time             =    0.08 sec. (0.35 ticks)\n",
      "Parallel b&c, 4 threads:\n",
      "  Real time             =    0.00 sec. (0.00 ticks)\n",
      "  Sync time (average)   =    0.00 sec.\n",
      "  Wait time (average)   =    0.00 sec.\n",
      "                          ------------\n",
      "Total (root+branch&cut) =    0.08 sec. (0.35 ticks)\n",
      "Objective value 6984250.398724082\n",
      "Lower bound 6984250.398724082\n",
      "Gap 0.0\n",
      "time 0.09400000001187436\n"
     ]
    }
   ],
   "source": [
    "import docplex.mp.model as cpx\n",
    "\n",
    "# The set of operations\n",
    "I = 3\n",
    "# The set of machines\n",
    "J = 3\n",
    "# The set of hanling machines\n",
    "L = 2\n",
    "# set of products\n",
    "K = 4\n",
    "\n",
    "# Define the parameters\n",
    "\n",
    "c = [[6, 13, 8], \n",
    "     [3, 19, 4], \n",
    "     [11, 9, 7]]\n",
    "\n",
    "h = [[9, 4],\n",
    "    [12, 15],\n",
    "    [10, 5],\n",
    "    [20, 16]]\n",
    "\n",
    "cprim = [210000, 260000, 300000]\n",
    "\n",
    "hprim = [80000, 120000]\n",
    "\n",
    "B = 11000000\n",
    "\n",
    "t = [[10/6, 10/13, 10/8],\n",
    "    [10/3, 10/19, 10/4],\n",
    "    [10/11, 10/9, 10/7]]\n",
    "\n",
    "#IF data is too much,could use this roup to get t\n",
    "#t = []\n",
    "#for i in range(I):\n",
    "#    t.append([])\n",
    "#    for j in range(J):\n",
    "#        t[i].append(10/c[i][j])\n",
    "\n",
    "\n",
    "\n",
    "s = [[1/9, 1/4],\n",
    "    [1/12, 1/15],\n",
    "    [1/10, 1/5],\n",
    "    [1/20, 1/16]]\n",
    "\n",
    "T = [6000, 7000, 5000]\n",
    "\n",
    "D = [2000, 1500, 1800, 1000]\n",
    "\n",
    "# create the cplex model\n",
    "\n",
    "MSP_model = cpx.Model('MIP Model')\n",
    "\n",
    "\n",
    "# Time limit\n",
    "MSP_model.parameters.timelimit.set(3600)\n",
    "# Decision variables\n",
    "\n",
    "M_range = [(j) for j in range(J)]\n",
    "MH_range = [(l) for l in range(L)]\n",
    "x_range = [(i,j) for i in range(I) for j in range(J)]\n",
    "y_range = [(k,l) for k in range(K) for l in range(L)]\n",
    "\n",
    "M = MSP_model.continuous_var_dict(M_range, name = \"M\")\n",
    "MH = MSP_model.integer_var_dict(MH_range, name = \"MH\")\n",
    "x = MSP_model.integer_var_dict(x_range, name = \"x\")\n",
    "y = MSP_model.integer_var_dict(y_range, name = \"y\")\n",
    "\n",
    "#Q = MSP_model.integer_var(name = \"y\")\n",
    "\n",
    "# Objective funtion\n",
    "\n",
    "objective = MSP_model.sum( cprim[j] * M[j] for j in range(J)) + MSP_model.sum( hprim[l] * MH[l] for l in range(L)) + MSP_model.sum( c[i][j] * x[i,j] for i in range(I) for j in range(J)) + MSP_model.sum( h[k][l] * y[k,l] for k in range(K) for l in range(L))\n",
    "\n",
    "\n",
    "# constraints \n",
    "for i in range(I):\n",
    "    MSP_model.add_constraint(MSP_model.sum(x[i,j] for j in range(J)) >= T[i])\n",
    "\n",
    "for k in range(K):\n",
    "    MSP_model.add_constraint(MSP_model.sum(y[k,l] for l in range(L)) >= D[k])\n",
    "    \n",
    "for j in range(J):\n",
    "    MSP_model.add_constraint(MSP_model.sum(t[i][j] * x[i,j] for i in range (I)) <= 480 * M[j])\n",
    "\n",
    "for l in range(L):\n",
    "    MSP_model.add_constraint(MSP_model.sum(s[k][l] * y[k,l] for k in range (K)) <= 480 * MH[l])\n",
    "\n",
    "MSP_model.add_constraint(MSP_model.sum( cprim[j] * M[j] for j in range(J)) + MSP_model.sum( hprim[l] * MH[l] for l in range(L)) <= B)\n",
    "\n",
    "# Solve the model\n",
    "MSP_model.minimize(objective)\n",
    "\n",
    "MSP_model.solve(log_output = True)\n",
    "\n",
    "# Some useful funtions\n",
    "\n",
    "Obj_value = MSP_model.objective_value\n",
    "LB = MSP_model.solve_details.best_bound\n",
    "Gap = MSP_model.solve_details.mip_relative_gap\n",
    "CPU_time = MSP_model.get_solve_details().time\n",
    "print('Objective value' ,Obj_value)\n",
    "print('Lower bound' ,LB)\n",
    "print('Gap' ,Gap)\n",
    "print('time' , CPU_time)\n"
   ]
  },
  {
   "cell_type": "code",
   "execution_count": 2,
   "metadata": {},
   "outputs": [
    {
     "name": "stdout",
     "output_type": "stream",
     "text": [
      "0  :  9.469696969696969\n",
      "1  :  17.29082321187584\n",
      "2  :  0\n"
     ]
    }
   ],
   "source": [
    "for j in range(J):\n",
    "    print((j), \" : \" ,M[j].solution_value)"
   ]
  },
  {
   "cell_type": "code",
   "execution_count": 3,
   "metadata": {},
   "outputs": [
    {
     "name": "stdout",
     "output_type": "stream",
     "text": [
      "0  :  2.0\n",
      "1  :  0\n"
     ]
    }
   ],
   "source": [
    "for l in range(L):\n",
    "    print((l), \" : \" ,MH[l].solution_value)"
   ]
  },
  {
   "cell_type": "code",
   "execution_count": 4,
   "metadata": {},
   "outputs": [
    {
     "name": "stdout",
     "output_type": "stream",
     "text": [
      "(0, 0)  :  0\n",
      "(0, 1)  :  6000.0\n",
      "(0, 2)  :  0\n",
      "(1, 0)  :  0\n",
      "(1, 1)  :  7000.0\n",
      "(1, 2)  :  0\n",
      "(2, 0)  :  5000.0\n",
      "(2, 1)  :  0\n",
      "(2, 2)  :  0\n"
     ]
    }
   ],
   "source": [
    "for i in range(I):\n",
    "    for j in range(J):\n",
    "        print((i,j), \" : \" ,x[i,j].solution_value)"
   ]
  },
  {
   "cell_type": "code",
   "execution_count": 5,
   "metadata": {},
   "outputs": [
    {
     "name": "stdout",
     "output_type": "stream",
     "text": [
      "(0, 0)  :  2000.0\n",
      "(0, 1)  :  0\n",
      "(1, 0)  :  1500.0\n",
      "(1, 1)  :  0\n",
      "(2, 0)  :  1800.0\n",
      "(2, 1)  :  0\n",
      "(3, 0)  :  1000.0\n",
      "(3, 1)  :  0\n"
     ]
    }
   ],
   "source": [
    "for k in range(K):\n",
    "    for l in range(L):\n",
    "        print((k,l), \" : \" ,y[k,l].solution_value)"
   ]
  },
  {
   "cell_type": "code",
   "execution_count": null,
   "metadata": {},
   "outputs": [],
   "source": []
  }
 ],
 "metadata": {
  "kernelspec": {
   "display_name": "Python 3 (ipykernel)",
   "language": "python",
   "name": "python3"
  },
  "language_info": {
   "codemirror_mode": {
    "name": "ipython",
    "version": 3
   },
   "file_extension": ".py",
   "mimetype": "text/x-python",
   "name": "python",
   "nbconvert_exporter": "python",
   "pygments_lexer": "ipython3",
   "version": "3.9.7"
  }
 },
 "nbformat": 4,
 "nbformat_minor": 2
}
